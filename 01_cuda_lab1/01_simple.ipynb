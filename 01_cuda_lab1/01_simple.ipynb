{
  "nbformat": 4,
  "nbformat_minor": 0,
  "metadata": {
    "colab": {
      "name": "01_simple.ipynb",
      "version": "0.3.2",
      "provenance": [],
      "include_colab_link": true
    },
    "kernelspec": {
      "name": "python3",
      "display_name": "Python 3"
    }
  },
  "cells": [
    {
      "cell_type": "markdown",
      "metadata": {
        "id": "view-in-github",
        "colab_type": "text"
      },
      "source": [
        "<a href=\"https://colab.research.google.com/github/jeonggunlee/2019-Winter-HGU-Machine-Learing-Camp/blob/master/01_cuda_lab1/01_simple.ipynb\" target=\"_parent\"><img src=\"https://colab.research.google.com/assets/colab-badge.svg\" alt=\"Open In Colab\"/></a>"
      ]
    },
    {
      "cell_type": "markdown",
      "metadata": {
        "id": "CmaRC_vtUkVM",
        "colab_type": "text"
      },
      "source": [
        "# Simple C Programming with Google Colab\n",
        "\n",
        "- Instructir: Jeong-Gun Lee (School of Software, Hallym University)\n",
        "- Email: jeonggun.lee@gmail.com\n",
        "- Web: http://www.onchp.net\n"
      ]
    },
    {
      "cell_type": "markdown",
      "metadata": {
        "id": "tTHsRoTeVv9u",
        "colab_type": "text"
      },
      "source": [
        "You can make a simple C code with the name of **codename.c** through [ %%writefile codename.c ] "
      ]
    },
    {
      "cell_type": "code",
      "metadata": {
        "id": "6kfdjeSwTN2p",
        "colab_type": "code",
        "colab": {
          "base_uri": "https://localhost:8080/",
          "height": 36
        },
        "outputId": "01a42400-15dd-4913-c687-c2cc94e737ce"
      },
      "source": [
        "%%writefile prog.c\n",
        "\n",
        "#include<stdio.h>\n",
        "\n",
        "int main(void)\n",
        "{\n",
        "    printf(\"Hello World!~~~\");\n",
        "    \n",
        "    return 0;  // 정상 완료\n",
        "}"
      ],
      "execution_count": 8,
      "outputs": [
        {
          "output_type": "stream",
          "text": [
            "Overwriting prog.c\n"
          ],
          "name": "stdout"
        }
      ]
    },
    {
      "cell_type": "code",
      "metadata": {
        "id": "I1QFktLNUGD1",
        "colab_type": "code",
        "colab": {
          "base_uri": "https://localhost:8080/",
          "height": 36
        },
        "outputId": "e313fa24-720c-42d7-d1cd-2b3a880110cd"
      },
      "source": [
        "!ls"
      ],
      "execution_count": 9,
      "outputs": [
        {
          "output_type": "stream",
          "text": [
            "prog.c\tsample_data\n"
          ],
          "name": "stdout"
        }
      ]
    },
    {
      "cell_type": "code",
      "metadata": {
        "id": "eKihNbD_UHYB",
        "colab_type": "code",
        "colab": {
          "base_uri": "https://localhost:8080/",
          "height": 111
        },
        "outputId": "da9f46a6-6f74-4b23-e7b7-e26370997207"
      },
      "source": [
        "!gcc --version"
      ],
      "execution_count": 10,
      "outputs": [
        {
          "output_type": "stream",
          "text": [
            "gcc (Ubuntu 7.4.0-1ubuntu1~18.04) 7.4.0\n",
            "Copyright (C) 2017 Free Software Foundation, Inc.\n",
            "This is free software; see the source for copying conditions.  There is NO\n",
            "warranty; not even for MERCHANTABILITY or FITNESS FOR A PARTICULAR PURPOSE.\n",
            "\n"
          ],
          "name": "stdout"
        }
      ]
    },
    {
      "cell_type": "code",
      "metadata": {
        "id": "OT9t0yXdUNzI",
        "colab_type": "code",
        "colab": {}
      },
      "source": [
        "!gcc -o hello prog.c"
      ],
      "execution_count": 0,
      "outputs": []
    },
    {
      "cell_type": "code",
      "metadata": {
        "id": "0uoBCc8UUXyn",
        "colab_type": "code",
        "colab": {
          "base_uri": "https://localhost:8080/",
          "height": 36
        },
        "outputId": "63feb529-d6a8-4561-8bfd-68907d7f8272"
      },
      "source": [
        "!./hello"
      ],
      "execution_count": 12,
      "outputs": [
        {
          "output_type": "stream",
          "text": [
            "Hello World!~~~"
          ],
          "name": "stdout"
        }
      ]
    },
    {
      "cell_type": "markdown",
      "metadata": {
        "id": "T1aFAcEkWcy-",
        "colab_type": "text"
      },
      "source": [
        "*  *  *\n",
        "## Pthread Exercise\n",
        "*  *  *\n",
        "\n"
      ]
    },
    {
      "cell_type": "code",
      "metadata": {
        "id": "UzdfT7pmUhiP",
        "colab_type": "code",
        "colab": {
          "base_uri": "https://localhost:8080/",
          "height": 36
        },
        "outputId": "885609b5-9be9-4792-f5d3-55ef14c6667f"
      },
      "source": [
        "%%writefile pthread.c\n",
        "\n",
        "#include <pthread.h>\n",
        "#include <stdio.h>\n",
        "#include <stdlib.h>\n",
        "#define NUM_THREADS\t5\n",
        "\n",
        "void *PrintHello(void *threadid)\n",
        "{\n",
        "   long tid;\n",
        "   long* tidPtr = (long*) threadid;\n",
        "   tid = *tidPtr;\n",
        "   printf(\"Hello World! It's me, thread #%ld!\\n\", tid);\n",
        "   pthread_exit(NULL);\n",
        "}\n",
        "\n",
        "\n",
        "int main(int argc, char *argv[])\n",
        "{\n",
        "   pthread_t threads[NUM_THREADS];\n",
        "   int rc;\n",
        "   long t;\n",
        "   for(t=0;t<NUM_THREADS;t++){\n",
        "     printf(\"In main: creating thread %ld\\n\", t);\n",
        "     rc = pthread_create(&threads[t], NULL, PrintHello, (void *)&t);\n",
        "     if (rc){\n",
        "       printf(\"ERROR; return code from pthread_create() is %d\\n\", rc);\n",
        "       exit(-1);\n",
        "       }\n",
        "     }\n",
        "\n",
        "   /* Last thing that main() should do */\n",
        "   pthread_exit(NULL);\n",
        "}\n"
      ],
      "execution_count": 17,
      "outputs": [
        {
          "output_type": "stream",
          "text": [
            "Overwriting pthread.c\n"
          ],
          "name": "stdout"
        }
      ]
    },
    {
      "cell_type": "code",
      "metadata": {
        "id": "eqGUoQHAWzum",
        "colab_type": "code",
        "colab": {
          "base_uri": "https://localhost:8080/",
          "height": 36
        },
        "outputId": "e855db2d-c1eb-4afc-8558-edb007d1cf97"
      },
      "source": [
        "!ls"
      ],
      "execution_count": 14,
      "outputs": [
        {
          "output_type": "stream",
          "text": [
            "hello  prog.c  pthread.c  sample_data\n"
          ],
          "name": "stdout"
        }
      ]
    },
    {
      "cell_type": "code",
      "metadata": {
        "id": "duZAMyuaW0T0",
        "colab_type": "code",
        "colab": {}
      },
      "source": [
        "!gcc -o pthread pthread.c -lpthread"
      ],
      "execution_count": 0,
      "outputs": []
    },
    {
      "cell_type": "code",
      "metadata": {
        "id": "vY3nLOIjXGWo",
        "colab_type": "code",
        "colab": {}
      },
      "source": [
        ""
      ],
      "execution_count": 0,
      "outputs": []
    },
    {
      "cell_type": "code",
      "metadata": {
        "id": "fXryLDcOXWV2",
        "colab_type": "code",
        "colab": {
          "base_uri": "https://localhost:8080/",
          "height": 204
        },
        "outputId": "a7cc7cbb-ceac-40fd-acbe-ce8efa289550"
      },
      "source": [
        "!./pthread"
      ],
      "execution_count": 19,
      "outputs": [
        {
          "output_type": "stream",
          "text": [
            "In main: creating thread 0\n",
            "In main: creating thread 1\n",
            "Hello World! It's me, thread #1!\n",
            "Hello World! It's me, thread #2!\n",
            "In main: creating thread 2\n",
            "In main: creating thread 3\n",
            "In main: creating thread 4\n",
            "Hello World! It's me, thread #4!\n",
            "Hello World! It's me, thread #4!\n",
            "Hello World! It's me, thread #4!\n"
          ],
          "name": "stdout"
        }
      ]
    },
    {
      "cell_type": "code",
      "metadata": {
        "id": "tVwPnqh0XXah",
        "colab_type": "code",
        "colab": {}
      },
      "source": [
        ""
      ],
      "execution_count": 0,
      "outputs": []
    }
  ]
}